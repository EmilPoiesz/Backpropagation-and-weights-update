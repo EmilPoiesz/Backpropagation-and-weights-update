{
 "cells": [
  {
   "cell_type": "code",
   "execution_count": 1,
   "metadata": {},
   "outputs": [],
   "source": [
    "import torch\n",
    "from torch import nn\n",
    "from tests_backpropagation import main_test\n",
    "\n",
    "torch.manual_seed(123)\n",
    "torch.set_default_dtype(torch.double)"
   ]
  },
  {
   "cell_type": "markdown",
   "metadata": {},
   "source": [
    "## Class ``MyNet``\n",
    "\n",
    "Read carefully how ``MyNet`` is implemented in the cell below. In particular:  \n",
    "- ``n_hid`` is a list of integer, representing the number of hidden units in each hidden layer.   \n",
    "-  ``MyNet([2, 3, 2]) = MiniNet()`` where ``MiniNet`` is the neural network defined in the fourth tutorial, in which notations are also clarified.     \n",
    "- ``model.L`` is the number of hidden layers, ``L``   \n",
    "- ``model.f[l]`` is the activation function of layer ``l``, $f^{[l]}$ (here ``torch.tanh``)   \n",
    "- ``model.df[l]`` is the derivative of the activation function, $f'^{[l]}$   \n",
    "- ``model.a[l]``  is the tensor $A^{[l]}$, (shape: ``(1, n(l))``)   \n",
    "- ``model.z[l]``  is the tensor $Z^{[l]}$, (shape: ``(1, n(l))``)  \n",
    "- Weights $W^{[l]}$ (shape: ``(n(l+1), n(l))``) and biases $\\mathbf{b}^{[l]}$ (shape: ``(n(l+1))``) can be accessed as follows:\n",
    "```\n",
    "weights = model.fc[str(l)].weight.data\n",
    "bias = model.fc[str(l)].bias.data\n",
    "```"
   ]
  },
  {
   "cell_type": "code",
   "execution_count": 2,
   "metadata": {},
   "outputs": [],
   "source": [
    "class MyNet(nn.Module):\n",
    "    def __init__(self, n_l = [2, 3, 2]):\n",
    "        super().__init__() \n",
    "        \n",
    "        \n",
    "        # number of layers in our network (following Andrew's notations)\n",
    "        self.L = len(n_l)-1\n",
    "        self.n_l = n_l\n",
    "        \n",
    "        # Where we will store our neuron values\n",
    "        # - z: before activation function \n",
    "        # - a: after activation function (a=f(z))\n",
    "        self.z = {i : None for i in range(1, self.L+1)}\n",
    "        self.a = {i : None for i in range(self.L+1)}\n",
    "\n",
    "        # Where we will store the gradients for our custom backpropagation algo\n",
    "        self.dL_dw = {i : None for i in range(1, self.L+1)}\n",
    "        self.dL_db = {i : None for i in range(1, self.L+1)}\n",
    "\n",
    "        # Our activation functions\n",
    "        self.f = {i : lambda x : torch.tanh(x) for i in range(1, self.L+1)}\n",
    "\n",
    "        # Derivatives of our activation functions\n",
    "        self.df = {i : lambda x : (1 / (torch.cosh(x)**2)) for i in range(1, self.L+1)}\n",
    "        \n",
    "        # fully connected layers\n",
    "        # We have to use nn.ModuleDict and to use strings as keys here to \n",
    "        # respect pytorch requirements (otherwise, the model does not learn)\n",
    "        self.fc = nn.ModuleDict({str(i): None for i in range(1, self.L+1)})\n",
    "        for i in range(1, self.L+1):\n",
    "            self.fc[str(i)] = nn.Linear(in_features=n_l[i-1], out_features=n_l[i])\n",
    "        \n",
    "    def forward(self, x):\n",
    "        # Input layer\n",
    "        self.a[0] = torch.flatten(x, 1)\n",
    "        \n",
    "        # Hidden layers until output layer\n",
    "        for i in range(1, self.L+1):\n",
    "\n",
    "            # fully connected layer\n",
    "            self.z[i] = self.fc[str(i)](self.a[i-1])\n",
    "            # activation\n",
    "            self.a[i] = self.f[i](self.z[i])\n",
    "\n",
    "        # return output\n",
    "        return self.a[self.L]"
   ]
  },
  {
   "cell_type": "markdown",
   "metadata": {},
   "source": [
    "## Tasks\n",
    "\n",
    "Write a function ``backpropagation(model, y_true, y_pred)`` that computes:\n",
    "\n",
    "- $\\frac{\\partial L}{\\partial w^{[l]}_{i,j}}$ and store them in ``model.dL_dw[l][i,j]`` for $l \\in [1 .. L]$ \n",
    "- $\\frac{\\partial L}{\\partial b^{[l]}_{j}}$ and store them in ``model.dL_db[l][j]`` for $l \\in [1 .. L]$ \n",
    "\n",
    "assuming ``model`` is an instance of the ``MyNet`` class.\n",
    "\n",
    "A vectorized implementation would be appreciated."
   ]
  },
  {
   "cell_type": "code",
   "execution_count": 435,
   "metadata": {},
   "outputs": [],
   "source": [
    "def backpropagation(model, y_true, y_pred):\n",
    "\n",
    "    # for output layer\n",
    "    delta = -2 * (y_true - y_pred) * model.df[model.L](model.z[model.L])\n",
    "    \n",
    "    model.dL_dw[model.L] = torch.matmul(model.a[model.L-1].T, delta)\n",
    "    model.dL_db[model.L] = delta[0]\n",
    "    \n",
    "    # for each hidden layer\n",
    "    for l in reversed(range(1, model.L)):\n",
    "\n",
    "        delta = torch.matmul(delta, model.fc[str(l)].weight.data.T) * model.df[l](model.z[l])\n",
    "        \n",
    "        model.dL_dw[l] = torch.matmul(model.a[l-1].T, delta)\n",
    "        model.dL_db[l] = delta[0]\n",
    "\n",
    "    return None"
   ]
  },
  {
   "cell_type": "markdown",
   "metadata": {},
   "source": [
    "## Run the cells below, and check the output\n",
    "\n",
    "- In the 1st cell, we use a toy dataset and the same architecture as the MiniNet class of the fourth tutorial. \n",
    "- In the 2nd cell, we use a few samples of the MNIST dataset with a consistent model architecture (``24x24`` black and white cropped images as input and ``10`` output classes). \n",
    "\n",
    "You can set ``verbose`` to ``True`` if you want more details about your computations versus what is expected."
   ]
  },
  {
   "cell_type": "code",
   "execution_count": 436,
   "metadata": {},
   "outputs": [
    {
     "name": "stdout",
     "output_type": "stream",
     "text": [
      "\n",
      " __________________________________________________________________ \n",
      "                          Check gradients                             \n",
      " __________________________________________________________________ \n",
      "tensor([-0.3479,  0.1961])\n",
      "1\n",
      "tensor([-0.5278,  0.5681, -0.5708])\n",
      "tensor([[ 0.3760, -0.2258, -0.1851]], grad_fn=<MulBackward0>)\n"
     ]
    },
    {
     "ename": "IndexError",
     "evalue": "index 2 is out of bounds for dimension 0 with size 2",
     "output_type": "error",
     "traceback": [
      "\u001b[0;31m---------------------------------------------------------------------------\u001b[0m",
      "\u001b[0;31mIndexError\u001b[0m                                Traceback (most recent call last)",
      "Input \u001b[0;32mIn [436]\u001b[0m, in \u001b[0;36m<cell line: 2>\u001b[0;34m()\u001b[0m\n\u001b[1;32m      1\u001b[0m model \u001b[38;5;241m=\u001b[39m MyNet([\u001b[38;5;241m2\u001b[39m, \u001b[38;5;241m3\u001b[39m, \u001b[38;5;241m2\u001b[39m])\n\u001b[0;32m----> 2\u001b[0m \u001b[43mmain_test\u001b[49m\u001b[43m(\u001b[49m\u001b[43mbackpropagation\u001b[49m\u001b[43m,\u001b[49m\u001b[43m \u001b[49m\u001b[43mmodel\u001b[49m\u001b[43m,\u001b[49m\u001b[43m \u001b[49m\u001b[43mverbose\u001b[49m\u001b[38;5;241;43m=\u001b[39;49m\u001b[38;5;28;43;01mFalse\u001b[39;49;00m\u001b[43m,\u001b[49m\u001b[43m \u001b[49m\u001b[43mdata\u001b[49m\u001b[38;5;241;43m=\u001b[39;49m\u001b[38;5;124;43m'\u001b[39;49m\u001b[38;5;124;43mtoy\u001b[39;49m\u001b[38;5;124;43m'\u001b[39;49m\u001b[43m)\u001b[49m\n",
      "File \u001b[0;32m~/Documents/inf265/Project 1/project01/tests_backpropagation.py:271\u001b[0m, in \u001b[0;36mmain_test\u001b[0;34m(backprop_fn, model, eps, verbose, data)\u001b[0m\n\u001b[1;32m    269\u001b[0m optimizer \u001b[38;5;241m=\u001b[39m optim\u001b[38;5;241m.\u001b[39mSGD(model\u001b[38;5;241m.\u001b[39mparameters(), lr\u001b[38;5;241m=\u001b[39m\u001b[38;5;241m0.1\u001b[39m)\n\u001b[1;32m    270\u001b[0m \u001b[38;5;66;03m# Training loop that compares our gradients with autograd's computations\u001b[39;00m\n\u001b[0;32m--> 271\u001b[0m autograd_ok, gradcheck_ok \u001b[38;5;241m=\u001b[39m \u001b[43mcheck_gradients\u001b[49m\u001b[43m(\u001b[49m\n\u001b[1;32m    272\u001b[0m \u001b[43m    \u001b[49m\u001b[43mmodel\u001b[49m\u001b[43m,\u001b[49m\u001b[43m \u001b[49m\u001b[43mbackprop_fn\u001b[49m\u001b[43m,\u001b[49m\u001b[43m \u001b[49m\u001b[43moptimizer\u001b[49m\u001b[43m,\u001b[49m\u001b[43m \u001b[49m\u001b[43mloss_fn\u001b[49m\u001b[43m,\u001b[49m\u001b[43m \u001b[49m\u001b[43minputs\u001b[49m\u001b[43m,\u001b[49m\u001b[43m \u001b[49m\u001b[43moutputs\u001b[49m\u001b[43m,\u001b[49m\u001b[43m \u001b[49m\u001b[43meps\u001b[49m\u001b[38;5;241;43m=\u001b[39;49m\u001b[43meps\u001b[49m\u001b[43m,\u001b[49m\u001b[43m \u001b[49m\u001b[43mn_epochs\u001b[49m\u001b[38;5;241;43m=\u001b[39;49m\u001b[43mn_epochs\u001b[49m\u001b[43m,\u001b[49m\u001b[43m \u001b[49m\u001b[43mverbose\u001b[49m\u001b[38;5;241;43m=\u001b[39;49m\u001b[43mverbose\u001b[49m\n\u001b[1;32m    273\u001b[0m \u001b[43m\u001b[49m\u001b[43m)\u001b[49m\n\u001b[1;32m    274\u001b[0m \u001b[38;5;28;01mif\u001b[39;00m autograd_ok:\n\u001b[1;32m    275\u001b[0m     \u001b[38;5;28mprint\u001b[39m(\u001b[38;5;124m\"\u001b[39m\u001b[38;5;130;01m\\n\u001b[39;00m\u001b[38;5;124m TEST PASSED: Gradients consistent with autograd\u001b[39m\u001b[38;5;124m'\u001b[39m\u001b[38;5;124ms computations.\u001b[39m\u001b[38;5;124m\"\u001b[39m)\n",
      "File \u001b[0;32m~/Documents/inf265/Project 1/project01/tests_backpropagation.py:212\u001b[0m, in \u001b[0;36mcheck_gradients\u001b[0;34m(model, backprop_fn, optimizer, loss_fn, x, y_true, n_epochs, eps, verbose)\u001b[0m\n\u001b[1;32m    209\u001b[0m loss\u001b[38;5;241m.\u001b[39msum()\u001b[38;5;241m.\u001b[39mbackward()\n\u001b[1;32m    211\u001b[0m backprop_fn(model, out_expected, out)\n\u001b[0;32m--> 212\u001b[0m flag, res \u001b[38;5;241m=\u001b[39m \u001b[43mgrad_check\u001b[49m\u001b[43m(\u001b[49m\u001b[43m \u001b[49m\u001b[43mmodel\u001b[49m\u001b[43m,\u001b[49m\u001b[43m \u001b[49m\u001b[38;5;28;43minput\u001b[39;49m\u001b[43m,\u001b[49m\u001b[43m \u001b[49m\u001b[43mout_expected\u001b[49m\u001b[43m,\u001b[49m\u001b[43m \u001b[49m\u001b[43mloss_fn\u001b[49m\u001b[43m,\u001b[49m\u001b[43meps\u001b[49m\u001b[38;5;241;43m=\u001b[39;49m\u001b[43meps\u001b[49m\u001b[43m \u001b[49m\u001b[43m)\u001b[49m\n\u001b[1;32m    213\u001b[0m gradcheck_ok \u001b[38;5;241m&\u001b[39m\u001b[38;5;241m=\u001b[39m flag\n\u001b[1;32m    214\u001b[0m res_backprop\u001b[38;5;241m.\u001b[39mappend(\u001b[38;5;28mround\u001b[39m(res\u001b[38;5;241m.\u001b[39mitem(), \u001b[38;5;241m4\u001b[39m))\n",
      "File \u001b[0;32m~/Documents/inf265/Project 1/project01/tests_backpropagation.py:104\u001b[0m, in \u001b[0;36mgrad_check\u001b[0;34m(model, x, y, loss_fn, eps)\u001b[0m\n\u001b[1;32m    102\u001b[0m                     grad_backprop\u001b[38;5;241m.\u001b[39mappend(model\u001b[38;5;241m.\u001b[39mdL_db[i_layer][idx])\n\u001b[1;32m    103\u001b[0m                 \u001b[38;5;28;01melse\u001b[39;00m:\n\u001b[0;32m--> 104\u001b[0m                     grad_backprop\u001b[38;5;241m.\u001b[39mappend(\u001b[43mmodel\u001b[49m\u001b[38;5;241;43m.\u001b[39;49m\u001b[43mdL_dw\u001b[49m\u001b[43m[\u001b[49m\u001b[43mi_layer\u001b[49m\u001b[43m]\u001b[49m\u001b[43m[\u001b[49m\u001b[43midx\u001b[49m\u001b[43m]\u001b[49m)\n\u001b[1;32m    106\u001b[0m g_approx \u001b[38;5;241m=\u001b[39m torch\u001b[38;5;241m.\u001b[39mtensor(grad_approx)\n\u001b[1;32m    107\u001b[0m g_backprop \u001b[38;5;241m=\u001b[39m torch\u001b[38;5;241m.\u001b[39mtensor(grad_backprop)\n",
      "\u001b[0;31mIndexError\u001b[0m: index 2 is out of bounds for dimension 0 with size 2"
     ]
    }
   ],
   "source": [
    "model = MyNet([2, 3, 2])\n",
    "main_test(backpropagation, model, verbose=False, data='toy')"
   ]
  },
  {
   "cell_type": "code",
   "execution_count": 338,
   "metadata": {},
   "outputs": [
    {
     "name": "stdout",
     "output_type": "stream",
     "text": [
      "\n",
      " __________________________________________________________________ \n",
      "                          Check gradients                             \n",
      " __________________________________________________________________ \n",
      "1\n",
      "tensor([[ 0.4119, -8.3300,  3.4369,  1.2041, -2.5378,  0.6593,  4.7305, -4.7492,\n",
      "         -0.2124,  0.8365,  0.3217,  5.5708, -4.5474, -3.3693,  7.3818, -3.4850]],\n",
      "       grad_fn=<MmBackward0>)\n",
      "tensor([[ 0.2594, -5.2454,  2.1642,  0.7582, -1.5981,  0.4152,  2.9788, -2.9906,\n",
      "         -0.1337,  0.5267,  0.2026,  3.5079, -2.8635, -2.1216,  4.6483, -2.1945],\n",
      "        [ 0.2664, -5.3870,  2.2226,  0.7787, -1.6412,  0.4264,  3.0592, -3.0713,\n",
      "         -0.1373,  0.5409,  0.2080,  3.6026, -2.9408, -2.1789,  4.7738, -2.2538],\n",
      "        [ 0.3911, -7.9103,  3.2637,  1.1434, -2.4099,  0.6261,  4.4922, -4.5099,\n",
      "         -0.2017,  0.7943,  0.3055,  5.2901, -4.3183, -3.1995,  7.0099, -3.3094],\n",
      "        [ 0.3966, -8.0200,  3.3089,  1.1593, -2.4434,  0.6348,  4.5545, -4.5724,\n",
      "         -0.2045,  0.8053,  0.3097,  5.3635, -4.3782, -3.2439,  7.1071, -3.3553],\n",
      "        [ 0.3777, -7.6384,  3.1515,  1.1041, -2.3271,  0.6046,  4.3378, -4.3549,\n",
      "         -0.1947,  0.7670,  0.2950,  5.1083, -4.1699, -3.0895,  6.7689, -3.1957],\n",
      "        [ 0.3486, -7.0504,  2.9089,  1.0191, -2.1480,  0.5581,  4.0038, -4.0196,\n",
      "         -0.1797,  0.7080,  0.2723,  4.7150, -3.8488, -2.8517,  6.2478, -2.9497],\n",
      "        [ 0.3879, -7.8452,  3.2368,  1.1340, -2.3901,  0.6210,  4.4552, -4.4727,\n",
      "         -0.2000,  0.7878,  0.3030,  5.2465, -4.2827, -3.1732,  6.9521, -3.2822],\n",
      "        [ 0.4109, -8.3104,  3.4287,  1.2013, -2.5318,  0.6578,  4.7193, -4.7380,\n",
      "         -0.2119,  0.8345,  0.3209,  5.5576, -4.5367, -3.3613,  7.3644, -3.4768],\n",
      "        [ 0.4009, -8.1078,  3.3452,  1.1720, -2.4701,  0.6418,  4.6043, -4.6225,\n",
      "         -0.2067,  0.8142,  0.3131,  5.4222, -4.4261, -3.2794,  7.1849, -3.3921],\n",
      "        [ 0.3757, -7.5979,  3.1348,  1.0983, -2.3148,  0.6014,  4.3148, -4.3318,\n",
      "         -0.1937,  0.7630,  0.2934,  5.0812, -4.1478, -3.0732,  6.7331, -3.1787]],\n",
      "       grad_fn=<MmBackward0>)\n",
      "0\n"
     ]
    },
    {
     "ename": "RuntimeError",
     "evalue": "mat1 and mat2 shapes cannot be multiplied (16x10 and 1x576)",
     "output_type": "error",
     "traceback": [
      "\u001b[0;31m---------------------------------------------------------------------------\u001b[0m",
      "\u001b[0;31mRuntimeError\u001b[0m                              Traceback (most recent call last)",
      "Input \u001b[0;32mIn [338]\u001b[0m, in \u001b[0;36m<cell line: 2>\u001b[0;34m()\u001b[0m\n\u001b[1;32m      1\u001b[0m model \u001b[38;5;241m=\u001b[39m MyNet([\u001b[38;5;241m24\u001b[39m\u001b[38;5;241m*\u001b[39m\u001b[38;5;241m24\u001b[39m, \u001b[38;5;241m16\u001b[39m, \u001b[38;5;241m10\u001b[39m])\n\u001b[0;32m----> 2\u001b[0m \u001b[43mmain_test\u001b[49m\u001b[43m(\u001b[49m\u001b[43mbackpropagation\u001b[49m\u001b[43m,\u001b[49m\u001b[43m \u001b[49m\u001b[43mmodel\u001b[49m\u001b[43m,\u001b[49m\u001b[43m \u001b[49m\u001b[43mverbose\u001b[49m\u001b[38;5;241;43m=\u001b[39;49m\u001b[38;5;28;43;01mFalse\u001b[39;49;00m\u001b[43m,\u001b[49m\u001b[43m \u001b[49m\u001b[43mdata\u001b[49m\u001b[38;5;241;43m=\u001b[39;49m\u001b[38;5;124;43m'\u001b[39;49m\u001b[38;5;124;43mmnist\u001b[39;49m\u001b[38;5;124;43m'\u001b[39;49m\u001b[43m)\u001b[49m\n",
      "File \u001b[0;32m~/Documents/inf265/Project 1/project01/tests_backpropagation.py:271\u001b[0m, in \u001b[0;36mmain_test\u001b[0;34m(backprop_fn, model, eps, verbose, data)\u001b[0m\n\u001b[1;32m    269\u001b[0m optimizer \u001b[38;5;241m=\u001b[39m optim\u001b[38;5;241m.\u001b[39mSGD(model\u001b[38;5;241m.\u001b[39mparameters(), lr\u001b[38;5;241m=\u001b[39m\u001b[38;5;241m0.1\u001b[39m)\n\u001b[1;32m    270\u001b[0m \u001b[38;5;66;03m# Training loop that compares our gradients with autograd's computations\u001b[39;00m\n\u001b[0;32m--> 271\u001b[0m autograd_ok, gradcheck_ok \u001b[38;5;241m=\u001b[39m \u001b[43mcheck_gradients\u001b[49m\u001b[43m(\u001b[49m\n\u001b[1;32m    272\u001b[0m \u001b[43m    \u001b[49m\u001b[43mmodel\u001b[49m\u001b[43m,\u001b[49m\u001b[43m \u001b[49m\u001b[43mbackprop_fn\u001b[49m\u001b[43m,\u001b[49m\u001b[43m \u001b[49m\u001b[43moptimizer\u001b[49m\u001b[43m,\u001b[49m\u001b[43m \u001b[49m\u001b[43mloss_fn\u001b[49m\u001b[43m,\u001b[49m\u001b[43m \u001b[49m\u001b[43minputs\u001b[49m\u001b[43m,\u001b[49m\u001b[43m \u001b[49m\u001b[43moutputs\u001b[49m\u001b[43m,\u001b[49m\u001b[43m \u001b[49m\u001b[43meps\u001b[49m\u001b[38;5;241;43m=\u001b[39;49m\u001b[43meps\u001b[49m\u001b[43m,\u001b[49m\u001b[43m \u001b[49m\u001b[43mn_epochs\u001b[49m\u001b[38;5;241;43m=\u001b[39;49m\u001b[43mn_epochs\u001b[49m\u001b[43m,\u001b[49m\u001b[43m \u001b[49m\u001b[43mverbose\u001b[49m\u001b[38;5;241;43m=\u001b[39;49m\u001b[43mverbose\u001b[49m\n\u001b[1;32m    273\u001b[0m \u001b[43m\u001b[49m\u001b[43m)\u001b[49m\n\u001b[1;32m    274\u001b[0m \u001b[38;5;28;01mif\u001b[39;00m autograd_ok:\n\u001b[1;32m    275\u001b[0m     \u001b[38;5;28mprint\u001b[39m(\u001b[38;5;124m\"\u001b[39m\u001b[38;5;130;01m\\n\u001b[39;00m\u001b[38;5;124m TEST PASSED: Gradients consistent with autograd\u001b[39m\u001b[38;5;124m'\u001b[39m\u001b[38;5;124ms computations.\u001b[39m\u001b[38;5;124m\"\u001b[39m)\n",
      "File \u001b[0;32m~/Documents/inf265/Project 1/project01/tests_backpropagation.py:211\u001b[0m, in \u001b[0;36mcheck_gradients\u001b[0;34m(model, backprop_fn, optimizer, loss_fn, x, y_true, n_epochs, eps, verbose)\u001b[0m\n\u001b[1;32m    207\u001b[0m loss \u001b[38;5;241m=\u001b[39m loss_fn(out, out_expected)\n\u001b[1;32m    209\u001b[0m loss\u001b[38;5;241m.\u001b[39msum()\u001b[38;5;241m.\u001b[39mbackward()\n\u001b[0;32m--> 211\u001b[0m \u001b[43mbackprop_fn\u001b[49m\u001b[43m(\u001b[49m\u001b[43mmodel\u001b[49m\u001b[43m,\u001b[49m\u001b[43m \u001b[49m\u001b[43mout_expected\u001b[49m\u001b[43m,\u001b[49m\u001b[43m \u001b[49m\u001b[43mout\u001b[49m\u001b[43m)\u001b[49m\n\u001b[1;32m    212\u001b[0m flag, res \u001b[38;5;241m=\u001b[39m grad_check( model, \u001b[38;5;28minput\u001b[39m, out_expected, loss_fn,eps\u001b[38;5;241m=\u001b[39meps )\n\u001b[1;32m    213\u001b[0m gradcheck_ok \u001b[38;5;241m&\u001b[39m\u001b[38;5;241m=\u001b[39m flag\n",
      "Input \u001b[0;32mIn [336]\u001b[0m, in \u001b[0;36mbackpropagation\u001b[0;34m(model, y_true, y_pred)\u001b[0m\n\u001b[1;32m      7\u001b[0m \u001b[38;5;28mprint\u001b[39m(l)\n\u001b[1;32m      8\u001b[0m \u001b[38;5;66;03m#from equation (4) and (7)\u001b[39;00m\n\u001b[0;32m----> 9\u001b[0m model\u001b[38;5;241m.\u001b[39mdL_dw[l\u001b[38;5;241m+\u001b[39m\u001b[38;5;241m1\u001b[39m] \u001b[38;5;241m=\u001b[39m \u001b[43mtorch\u001b[49m\u001b[38;5;241;43m.\u001b[39;49m\u001b[43mmatmul\u001b[49m\u001b[43m(\u001b[49m\u001b[43mdelta\u001b[49m\u001b[38;5;241;43m.\u001b[39;49m\u001b[43mT\u001b[49m\u001b[43m,\u001b[49m\u001b[43m \u001b[49m\u001b[43mmodel\u001b[49m\u001b[38;5;241;43m.\u001b[39;49m\u001b[43ma\u001b[49m\u001b[43m[\u001b[49m\u001b[43ml\u001b[49m\u001b[43m]\u001b[49m\u001b[43m)\u001b[49m\n\u001b[1;32m     10\u001b[0m model\u001b[38;5;241m.\u001b[39mdL_db[l\u001b[38;5;241m+\u001b[39m\u001b[38;5;241m1\u001b[39m] \u001b[38;5;241m=\u001b[39m delta\n\u001b[1;32m     12\u001b[0m \u001b[38;5;66;03m# from equation (6)\u001b[39;00m\n",
      "\u001b[0;31mRuntimeError\u001b[0m: mat1 and mat2 shapes cannot be multiplied (16x10 and 1x576)"
     ]
    }
   ],
   "source": [
    "model = MyNet([24*24, 16, 10])\n",
    "main_test(backpropagation, model, verbose=False, data='mnist')"
   ]
  },
  {
   "cell_type": "code",
   "execution_count": null,
   "metadata": {},
   "outputs": [],
   "source": []
  }
 ],
 "metadata": {
  "kernelspec": {
   "display_name": "Python 3 (ipykernel)",
   "language": "python",
   "name": "python3"
  },
  "language_info": {
   "codemirror_mode": {
    "name": "ipython",
    "version": 3
   },
   "file_extension": ".py",
   "mimetype": "text/x-python",
   "name": "python",
   "nbconvert_exporter": "python",
   "pygments_lexer": "ipython3",
   "version": "3.10.9"
  }
 },
 "nbformat": 4,
 "nbformat_minor": 2
}
