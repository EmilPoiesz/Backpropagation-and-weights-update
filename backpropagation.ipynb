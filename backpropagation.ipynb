{
 "cells": [
  {
   "cell_type": "code",
   "execution_count": null,
   "metadata": {},
   "outputs": [],
   "source": [
    "import torch\n",
    "from torch import nn\n",
    "from tests_backpropagation import main_test\n",
    "\n",
    "torch.manual_seed(123)\n",
    "torch.set_default_dtype(torch.double)"
   ]
  },
  {
   "cell_type": "markdown",
   "metadata": {},
   "source": [
    "## Class ``MyNet``\n",
    "\n",
    "Read carefully how ``MyNet`` is implemented in the cell below. In particular:  \n",
    "- ``n_hid`` is a list of integer, representing the number of hidden units in each hidden layer.   \n",
    "-  ``MyNet([2, 3, 2]) = MiniNet()`` where ``MiniNet`` is the neural network defined in the fourth tutorial, in which notations are also clarified.     \n",
    "- ``model.L`` is the number of hidden layers, ``L``   \n",
    "- ``model.f[l]`` is the activation function of layer ``l``, $f^{[l]}$ (here ``torch.tanh``)   \n",
    "- ``model.df[l]`` is the derivative of the activation function, $f'^{[l]}$   \n",
    "- ``model.a[l]``  is the tensor $A^{[l]}$, (shape: ``(1, n(l))``)   \n",
    "- ``model.z[l]``  is the tensor $Z^{[l]}$, (shape: ``(1, n(l))``)  \n",
    "- Weights $W^{[l]}$ (shape: ``(n(l+1), n(l))``) and biases $\\mathbf{b}^{[l]}$ (shape: ``(n(l+1))``) can be accessed as follows:\n",
    "```\n",
    "weights = model.fc[str(l)].weight.data\n",
    "bias = model.fc[str(l)].bias.data\n",
    "```"
   ]
  },
  {
   "cell_type": "code",
   "execution_count": null,
   "metadata": {},
   "outputs": [],
   "source": [
    "class MyNet(nn.Module):\n",
    "    def __init__(self, n_l = [2, 3, 2]):\n",
    "        super().__init__() \n",
    "        \n",
    "        \n",
    "        # number of layers in our network (following Andrew's notations)\n",
    "        self.L = len(n_l)-1\n",
    "        self.n_l = n_l\n",
    "        \n",
    "        # Where we will store our neuron values\n",
    "        # - z: before activation function \n",
    "        # - a: after activation function (a=f(z))\n",
    "        self.z = {i : None for i in range(1, self.L+1)}\n",
    "        self.a = {i : None for i in range(self.L+1)}\n",
    "\n",
    "        # Where we will store the gradients for our custom backpropagation algo\n",
    "        self.dL_dw = {i : None for i in range(1, self.L+1)}\n",
    "        self.dL_db = {i : None for i in range(1, self.L+1)}\n",
    "\n",
    "        # Our activation functions\n",
    "        self.f = {i : lambda x : torch.tanh(x) for i in range(1, self.L+1)}\n",
    "\n",
    "        # Derivatives of our activation functions\n",
    "        self.df = {i : lambda x : (1 / (torch.cosh(x)**2)) for i in range(1, self.L+1)}\n",
    "        \n",
    "        # fully connected layers\n",
    "        # We have to use nn.ModuleDict and to use strings as keys here to \n",
    "        # respect pytorch requirements (otherwise, the model does not learn)\n",
    "        self.fc = nn.ModuleDict({str(i): None for i in range(1, self.L+1)})\n",
    "        for i in range(1, self.L+1):\n",
    "            self.fc[str(i)] = nn.Linear(in_features=n_l[i-1], out_features=n_l[i])\n",
    "        \n",
    "    def forward(self, x):\n",
    "        # Input layer\n",
    "        self.a[0] = torch.flatten(x, 1)\n",
    "        \n",
    "        # Hidden layers until output layer\n",
    "        for i in range(1, self.L+1):\n",
    "\n",
    "            # fully connected layer\n",
    "            self.z[i] = self.fc[str(i)](self.a[i-1])\n",
    "            # activation\n",
    "            self.a[i] = self.f[i](self.z[i])\n",
    "\n",
    "        # return output\n",
    "        return self.a[self.L]"
   ]
  },
  {
   "cell_type": "markdown",
   "metadata": {},
   "source": [
    "## Tasks\n",
    "\n",
    "Write a function ``backpropagation(model, y_true, y_pred)`` that computes:\n",
    "\n",
    "- $\\frac{\\partial L}{\\partial w^{[l]}_{i,j}}$ and store them in ``model.dL_dw[l][i,j]`` for $l \\in [1 .. L]$ \n",
    "- $\\frac{\\partial L}{\\partial b^{[l]}_{j}}$ and store them in ``model.dL_db[l][j]`` for $l \\in [1 .. L]$ \n",
    "\n",
    "assuming ``model`` is an instance of the ``MyNet`` class.\n",
    "\n",
    "A vectorized implementation would be appreciated."
   ]
  },
  {
   "cell_type": "code",
   "execution_count": 12,
   "metadata": {},
   "outputs": [
    {
     "name": "stdout",
     "output_type": "stream",
     "text": [
      "\n",
      " __________________________________________________________________ \n",
      "                          Check gradients                             \n",
      " __________________________________________________________________ \n"
     ]
    },
    {
     "ename": "RuntimeError",
     "evalue": "The size of tensor a (3) must match the size of tensor b (2) at non-singleton dimension 1",
     "output_type": "error",
     "traceback": [
      "\u001b[0;31m---------------------------------------------------------------------------\u001b[0m",
      "\u001b[0;31mRuntimeError\u001b[0m                              Traceback (most recent call last)",
      "\u001b[1;32m/Users/emil/Documents/inf265/Project 1/project01/backpropagation.ipynb Cell 5\u001b[0m in \u001b[0;36m<cell line: 27>\u001b[0;34m()\u001b[0m\n\u001b[1;32m     <a href='vscode-notebook-cell:/Users/emil/Documents/inf265/Project%201/project01/backpropagation.ipynb#W4sZmlsZQ%3D%3D?line=23'>24</a>\u001b[0m     \u001b[39mreturn\u001b[39;00m \u001b[39mNone\u001b[39;00m\n\u001b[1;32m     <a href='vscode-notebook-cell:/Users/emil/Documents/inf265/Project%201/project01/backpropagation.ipynb#W4sZmlsZQ%3D%3D?line=25'>26</a>\u001b[0m model \u001b[39m=\u001b[39m MyNet([\u001b[39m2\u001b[39m, \u001b[39m3\u001b[39m, \u001b[39m2\u001b[39m])\n\u001b[0;32m---> <a href='vscode-notebook-cell:/Users/emil/Documents/inf265/Project%201/project01/backpropagation.ipynb#W4sZmlsZQ%3D%3D?line=26'>27</a>\u001b[0m main_test(backpropagation, model, verbose\u001b[39m=\u001b[39;49m\u001b[39mTrue\u001b[39;49;00m, data\u001b[39m=\u001b[39;49m\u001b[39m'\u001b[39;49m\u001b[39mtoy\u001b[39;49m\u001b[39m'\u001b[39;49m)\n",
      "File \u001b[0;32m~/Documents/inf265/Project 1/project01/tests_backpropagation.py:271\u001b[0m, in \u001b[0;36mmain_test\u001b[0;34m(backprop_fn, model, eps, verbose, data)\u001b[0m\n\u001b[1;32m    269\u001b[0m optimizer \u001b[39m=\u001b[39m optim\u001b[39m.\u001b[39mSGD(model\u001b[39m.\u001b[39mparameters(), lr\u001b[39m=\u001b[39m\u001b[39m0.1\u001b[39m)\n\u001b[1;32m    270\u001b[0m \u001b[39m# Training loop that compares our gradients with autograd's computations\u001b[39;00m\n\u001b[0;32m--> 271\u001b[0m autograd_ok, gradcheck_ok \u001b[39m=\u001b[39m check_gradients(\n\u001b[1;32m    272\u001b[0m     model, backprop_fn, optimizer, loss_fn, inputs, outputs, eps\u001b[39m=\u001b[39;49meps, n_epochs\u001b[39m=\u001b[39;49mn_epochs, verbose\u001b[39m=\u001b[39;49mverbose\n\u001b[1;32m    273\u001b[0m )\n\u001b[1;32m    274\u001b[0m \u001b[39mif\u001b[39;00m autograd_ok:\n\u001b[1;32m    275\u001b[0m     \u001b[39mprint\u001b[39m(\u001b[39m\"\u001b[39m\u001b[39m\\n\u001b[39;00m\u001b[39m TEST PASSED: Gradients consistent with autograd\u001b[39m\u001b[39m'\u001b[39m\u001b[39ms computations.\u001b[39m\u001b[39m\"\u001b[39m)\n",
      "File \u001b[0;32m~/Documents/inf265/Project 1/project01/tests_backpropagation.py:211\u001b[0m, in \u001b[0;36mcheck_gradients\u001b[0;34m(model, backprop_fn, optimizer, loss_fn, x, y_true, n_epochs, eps, verbose)\u001b[0m\n\u001b[1;32m    207\u001b[0m loss \u001b[39m=\u001b[39m loss_fn(out, out_expected)\n\u001b[1;32m    209\u001b[0m loss\u001b[39m.\u001b[39msum()\u001b[39m.\u001b[39mbackward()\n\u001b[0;32m--> 211\u001b[0m backprop_fn(model, out_expected, out)\n\u001b[1;32m    212\u001b[0m flag, res \u001b[39m=\u001b[39m grad_check( model, \u001b[39minput\u001b[39m, out_expected, loss_fn,eps\u001b[39m=\u001b[39meps )\n\u001b[1;32m    213\u001b[0m gradcheck_ok \u001b[39m&\u001b[39m\u001b[39m=\u001b[39m flag\n",
      "\u001b[1;32m/Users/emil/Documents/inf265/Project 1/project01/backpropagation.ipynb Cell 5\u001b[0m in \u001b[0;36mbackpropagation\u001b[0;34m(model, y_true, y_pred)\u001b[0m\n\u001b[1;32m     <a href='vscode-notebook-cell:/Users/emil/Documents/inf265/Project%201/project01/backpropagation.ipynb#W4sZmlsZQ%3D%3D?line=11'>12</a>\u001b[0m d_f \u001b[39m=\u001b[39m model\u001b[39m.\u001b[39mdf[l](model\u001b[39m.\u001b[39mz[l])\n\u001b[1;32m     <a href='vscode-notebook-cell:/Users/emil/Documents/inf265/Project%201/project01/backpropagation.ipynb#W4sZmlsZQ%3D%3D?line=12'>13</a>\u001b[0m delta \u001b[39m=\u001b[39m delta \u001b[39m*\u001b[39m d_f\n\u001b[0;32m---> <a href='vscode-notebook-cell:/Users/emil/Documents/inf265/Project%201/project01/backpropagation.ipynb#W4sZmlsZQ%3D%3D?line=14'>15</a>\u001b[0m model\u001b[39m.\u001b[39mdL_dw[l] \u001b[39m=\u001b[39m model\u001b[39m.\u001b[39;49ma[l\u001b[39m-\u001b[39;49m\u001b[39m1\u001b[39;49m] \u001b[39m*\u001b[39;49m delta\n\u001b[1;32m     <a href='vscode-notebook-cell:/Users/emil/Documents/inf265/Project%201/project01/backpropagation.ipynb#W4sZmlsZQ%3D%3D?line=15'>16</a>\u001b[0m model\u001b[39m.\u001b[39mdL_db[l] \u001b[39m=\u001b[39m delta\n\u001b[1;32m     <a href='vscode-notebook-cell:/Users/emil/Documents/inf265/Project%201/project01/backpropagation.ipynb#W4sZmlsZQ%3D%3D?line=17'>18</a>\u001b[0m \u001b[39m## this line has a mistake\u001b[39;00m\n\u001b[1;32m     <a href='vscode-notebook-cell:/Users/emil/Documents/inf265/Project%201/project01/backpropagation.ipynb#W4sZmlsZQ%3D%3D?line=18'>19</a>\u001b[0m \u001b[39m#delta = torch.matmul(delta, model.fc[str(l)].weight.data.T) * model.df[l](model.z[l])\u001b[39;00m\n\u001b[1;32m     <a href='vscode-notebook-cell:/Users/emil/Documents/inf265/Project%201/project01/backpropagation.ipynb#W4sZmlsZQ%3D%3D?line=19'>20</a>\u001b[0m \u001b[39m##\u001b[39;00m\n\u001b[1;32m     <a href='vscode-notebook-cell:/Users/emil/Documents/inf265/Project%201/project01/backpropagation.ipynb#W4sZmlsZQ%3D%3D?line=20'>21</a>\u001b[0m \u001b[39m#model.dL_dw[l] = torch.matmul(model.a[l-1].T, delta).T\u001b[39;00m\n\u001b[1;32m     <a href='vscode-notebook-cell:/Users/emil/Documents/inf265/Project%201/project01/backpropagation.ipynb#W4sZmlsZQ%3D%3D?line=21'>22</a>\u001b[0m \u001b[39m#model.dL_db[l] = delta[0]\u001b[39;00m\n",
      "\u001b[0;31mRuntimeError\u001b[0m: The size of tensor a (3) must match the size of tensor b (2) at non-singleton dimension 1"
     ]
    }
   ],
   "source": [
    "def backpropagation(model, y_true, y_pred):\n",
    "    \n",
    "    with torch.no_grad():\n",
    "        \n",
    "        delta = -2 * (y_true - y_pred)\n",
    "        #d_f = model.df[model.L](model.z[model.L])\n",
    "        #delta = torch.matmul(d_e.T, d_f)\n",
    "\n",
    "        # for each hidden layer\n",
    "        for l in reversed(range(1, model.L+1)):\n",
    "\n",
    "            d_f = model.df[l](model.z[l])\n",
    "            delta = delta * d_f\n",
    "\n",
    "            model.dL_dw[l] = model.a[l-1] * delta # error on this line\n",
    "            model.dL_db[l] = delta\n",
    "\n",
    "            ## this line has a mistake\n",
    "            #delta = torch.matmul(delta, model.fc[str(l)].weight.data.T) * model.df[l](model.z[l])\n",
    "            ##\n",
    "            #model.dL_dw[l] = torch.matmul(model.a[l-1].T, delta).T\n",
    "            #model.dL_db[l] = delta[0]\n",
    "\n",
    "    return None\n",
    "\n",
    "model = MyNet([2, 3, 2])\n",
    "main_test(backpropagation, model, verbose=True, data='toy')"
   ]
  },
  {
   "cell_type": "markdown",
   "metadata": {},
   "source": [
    "## Run the cells below, and check the output\n",
    "\n",
    "- In the 1st cell, we use a toy dataset and the same architecture as the MiniNet class of the fourth tutorial. \n",
    "- In the 2nd cell, we use a few samples of the MNIST dataset with a consistent model architecture (``24x24`` black and white cropped images as input and ``10`` output classes). \n",
    "\n",
    "You can set ``verbose`` to ``True`` if you want more details about your computations versus what is expected."
   ]
  },
  {
   "cell_type": "code",
   "execution_count": null,
   "metadata": {},
   "outputs": [],
   "source": [
    "model = MyNet([2, 3, 2])\n",
    "main_test(backpropagation, model, verbose=True, data='toy')"
   ]
  },
  {
   "cell_type": "code",
   "execution_count": null,
   "metadata": {},
   "outputs": [],
   "source": [
    "model = MyNet([24*24, 16, 10])\n",
    "main_test(backpropagation, model, verbose=True, data='mnist')"
   ]
  }
 ],
 "metadata": {
  "kernelspec": {
   "display_name": "inf265",
   "language": "python",
   "name": "python3"
  },
  "language_info": {
   "codemirror_mode": {
    "name": "ipython",
    "version": 3
   },
   "file_extension": ".py",
   "mimetype": "text/x-python",
   "name": "python",
   "nbconvert_exporter": "python",
   "pygments_lexer": "ipython3",
   "version": "3.10.9"
  },
  "vscode": {
   "interpreter": {
    "hash": "8f3155c26dc513e518498c54b5f9ff85ad01473166d581020fa91a3170cc06ef"
   }
  }
 },
 "nbformat": 4,
 "nbformat_minor": 2
}
